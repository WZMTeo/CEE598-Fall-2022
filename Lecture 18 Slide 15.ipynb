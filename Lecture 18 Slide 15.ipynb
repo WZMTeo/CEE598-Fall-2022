{
 "cells": [
  {
   "cell_type": "code",
   "execution_count": 7,
   "id": "b8798c04",
   "metadata": {},
   "outputs": [
    {
     "name": "stdout",
     "output_type": "stream",
     "text": [
      "Optimal\n",
      "Min Q: 1.0\n"
     ]
    }
   ],
   "source": [
    "#source: https://towardsdatascience.com/linear-programming-using-python-priyansh-22b5ee888fe0\n",
    "from pulp import *\n",
    "import pandas as pd\n",
    "import numpy as np\n",
    "\n",
    "n_links = 3\n",
    "\n",
    "#Emission Factors\n",
    "cost_matrix = np.array([0.1,0.2,0.3]).reshape(1,3)\n",
    "\n",
    "#define model for optimization\n",
    "model = LpProblem(\"Min_Q\", LpMinimize)\n",
    "\n",
    "#define variables\n",
    "variable_names = ['a','b','c']\n",
    "DV_variables = LpVariable.matrix(\"X\", variable_names)\n",
    "allocation = np.array(DV_variables).reshape(1,3)\n",
    "\n",
    "#define objective function\n",
    "obj_func=[]\n",
    "for j in range(n_links):\n",
    "    obj_func += allocation[0][j] * cost_matrix[0][j]\n",
    "model +=  obj_func\n",
    "\n",
    "#Demand Constraints\n",
    "model += lpSum(allocation[0][j] for j in range(n_links)) == 10, \"Demand Constraints \" + str(0)\n",
    "\n",
    "#Non-negativity Constraints\n",
    "for j in range(n_links):\n",
    "    model += allocation[0][j] >= 0, \"Non-negativity Constraints \" + str(j)\n",
    "\n",
    "model.solve(PULP_CBC_CMD())\n",
    "status =  LpStatus[model.status]\n",
    "\n",
    "print(status)\n",
    "print(\"Min Q:\", model.objective.value())"
   ]
  },
  {
   "cell_type": "code",
   "execution_count": null,
   "id": "c3425def",
   "metadata": {},
   "outputs": [],
   "source": []
  }
 ],
 "metadata": {
  "kernelspec": {
   "display_name": "Python 3 (ipykernel)",
   "language": "python",
   "name": "python3"
  },
  "language_info": {
   "codemirror_mode": {
    "name": "ipython",
    "version": 3
   },
   "file_extension": ".py",
   "mimetype": "text/x-python",
   "name": "python",
   "nbconvert_exporter": "python",
   "pygments_lexer": "ipython3",
   "version": "3.9.13"
  }
 },
 "nbformat": 4,
 "nbformat_minor": 5
}
