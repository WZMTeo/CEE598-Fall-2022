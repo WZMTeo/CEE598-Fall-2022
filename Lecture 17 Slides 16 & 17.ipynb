{
 "cells": [
  {
   "cell_type": "code",
   "execution_count": 1,
   "id": "c8adcec2",
   "metadata": {},
   "outputs": [
    {
     "name": "stdout",
     "output_type": "stream",
     "text": [
      "Solution for Slide 16:\n",
      "x = [5. 1.]\n",
      "T = 10.0\n",
      "Total emissions = 2.9\n"
     ]
    }
   ],
   "source": [
    "import numpy as np\n",
    "import scipy.optimize as sopt\n",
    "\n",
    "#define demand\n",
    "d=6\n",
    "\n",
    "#define emission factors\n",
    "h=[0.5,0.4]\n",
    "\n",
    "#define objective function (sum of integral of t)\n",
    "def z(x):\n",
    "    return 0.5*(x[0])**2+5*x[0]+0.5*(x[1])**2+9*x[1]\n",
    "\n",
    "#flow conservation\n",
    "def f(x):\n",
    "    return d-x[0]-x[1]\n",
    "cons = [{'type': 'eq', 'fun': f}]\n",
    "\n",
    "#flow non-negativity\n",
    "bnds = ((0,None),(0,None))\n",
    "\n",
    "opt = sopt.minimize(z,(0,0),constraints = cons,bounds = bnds)\n",
    "\n",
    "print('Solution for Slide 16:')\n",
    "print('x =',opt.x)\n",
    "print('T =',opt.x[0]+5) #can also be opt.x[1]+9\n",
    "print('Total emissions =',np.sum(opt.x*h))"
   ]
  },
  {
   "cell_type": "code",
   "execution_count": 2,
   "id": "b140c0d5",
   "metadata": {},
   "outputs": [
    {
     "name": "stdout",
     "output_type": "stream",
     "text": [
      "Solution for Slide 17:\n",
      "x = [5.5 0.5]\n",
      "T = 9.5\n",
      "Total emissions = 2.95\n"
     ]
    }
   ],
   "source": [
    "#amend objective function (sum of integral of t)\n",
    "def z(x):\n",
    "    return 0.5*(x[0])**2+4*x[0]+0.5*(x[1])**2+9*x[1]\n",
    "\n",
    "opt = sopt.minimize(z,(0,0),constraints = cons,bounds = bnds)\n",
    "\n",
    "print('Solution for Slide 17:')\n",
    "print('x =',np.round(opt.x,2))\n",
    "print('T =',opt.x[0]+4) #can also be opt.x[1]+9\n",
    "print('Total emissions =',round(np.sum(opt.x*h),2))"
   ]
  },
  {
   "cell_type": "code",
   "execution_count": null,
   "id": "a6fff148",
   "metadata": {},
   "outputs": [],
   "source": []
  }
 ],
 "metadata": {
  "kernelspec": {
   "display_name": "Python 3 (ipykernel)",
   "language": "python",
   "name": "python3"
  },
  "language_info": {
   "codemirror_mode": {
    "name": "ipython",
    "version": 3
   },
   "file_extension": ".py",
   "mimetype": "text/x-python",
   "name": "python",
   "nbconvert_exporter": "python",
   "pygments_lexer": "ipython3",
   "version": "3.9.13"
  }
 },
 "nbformat": 4,
 "nbformat_minor": 5
}
